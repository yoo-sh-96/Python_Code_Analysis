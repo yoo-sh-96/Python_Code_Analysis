{
 "cells": [
  {
   "cell_type": "markdown",
   "metadata": {
    "id": "BX7SgOeWu86I"
   },
   "source": [
    "안녕하세요. 수강생 여러분~! Chapter14 ~ 16 수업은 잘 들으셨나요?\n",
    "\n",
    "Chapter14 ~ 16의 수업 내용을 바탕으로 아래 문제를 풀어주시면 됩니다.\n",
    "\n",
    "<br>\n",
    "\n",
    "\n",
    "[**답변 입력 방법**]\n",
    "\n",
    "문제 아래에 있는 코드 입력창에 정답코드를 작성하신 후  __▷ 버튼을 클릭해 코드를 실행__ 해보세요<br>"
   ]
  },
  {
   "cell_type": "markdown",
   "metadata": {
    "id": "D7vyIU1lyXsK"
   },
   "source": [
    "---"
   ]
  },
  {
   "cell_type": "markdown",
   "metadata": {
    "id": "7kQJMRuFu-6s"
   },
   "source": [
    "__[문제1]__\n",
    "\n",
    "주어진 정수 x와 자연수 n을 이용해, x부터 시작해 x씩 증가하는 숫자를 n개 지니는 리스트를 출력해주세요   \n",
    "<br>\n",
    "\n",
    "x = 2, n =5"
   ]
  },
  {
   "cell_type": "code",
   "execution_count": null,
   "metadata": {
    "colab": {
     "base_uri": "https://localhost:8080/"
    },
    "executionInfo": {
     "elapsed": 4,
     "status": "ok",
     "timestamp": 1745217476877,
     "user": {
      "displayName": "jzyz",
      "userId": "12748753956174587680"
     },
     "user_tz": -540
    },
    "id": "juUF2KYbu0DX",
    "outputId": "7f8f5dce-25ca-4138-e536-ac0bcdc41165"
   },
   "outputs": [
    {
     "name": "stdout",
     "output_type": "stream",
     "text": [
      "[2, 4, 6, 8, 10]\n"
     ]
    }
   ],
   "source": [
    "x, n = 2, 5\n",
    "print(list(range(x, x*(n+1), x)))\n",
    "\n",
    "\n",
    "# print([i * x for i in range(1, n + 1)])\n",
    "# i * x(표현식), 전체의미 : 1부터 n+1(n=5라서 5개의 출력을 위해서 +1)까지 길이에서 i에담아 반복, x씩 증가를 위해 i*x\n",
    "\n",
    "# for i in range(1, n + 1):\n",
    "#     list_arr.append(i * x)\n",
    "# 위의 리스트컴프리헨션을 풀어쓴것"
   ]
  },
  {
   "cell_type": "markdown",
   "metadata": {
    "id": "15x_AxjSyXsL"
   },
   "source": [
    "---"
   ]
  },
  {
   "cell_type": "markdown",
   "metadata": {
    "id": "4BPXMLXUvBVL"
   },
   "source": [
    "__[문제2]__\n",
    "\n",
    "전화번호가 문자열 phone_number로 주어졌을 때, 전화번호의 뒷 4자리를 *으로 가린 문자열이 출력되도록 코드를 작성해주세요\n",
    "\n",
    "phone_number = \"01012347890\"  \n",
    "<br>\n",
    "\n",
    "출력 예) \"0101234****\""
   ]
  },
  {
   "cell_type": "code",
   "execution_count": null,
   "metadata": {
    "colab": {
     "base_uri": "https://localhost:8080/"
    },
    "executionInfo": {
     "elapsed": 17,
     "status": "ok",
     "timestamp": 1745217483054,
     "user": {
      "displayName": "jzyz",
      "userId": "12748753956174587680"
     },
     "user_tz": -540
    },
    "id": "P0fY7CYUvC_j",
    "outputId": "e8943a6a-6aae-45af-b9f6-b0e069306a16"
   },
   "outputs": [
    {
     "name": "stdout",
     "output_type": "stream",
     "text": [
      "0101234****\n",
      "0101234****\n",
      "0101234****\n"
     ]
    }
   ],
   "source": [
    "phone_number = \"01012347890\"\n",
    "print(phone_number.replace(phone_number[-4:], \"*\" * len(phone_number[-4:])))\n",
    "#replace(바꿀 문자열, 새로바뀔 문자열), 전체의미: phone_number에서 phone_number[-4:](뒤에서 4번째자리까지)를 \"*\"(*이걸로)바꾼다.\n",
    "\n",
    "print(phone_number[:-4], end=\"\") # phone_number에서 뒤에서 4글자를 제외하고 출력\n",
    "for i in range(4):  # *를 4개 출력하기 위해 반복문 사용\n",
    "    print(\"*\", end=\"\")\n",
    "print()\n",
    "\n",
    "# new_number = phone_number[:-4] + \"****\"\n",
    "\n",
    "new_number = phone_number[:-4].ljust(len(phone_number), '*') # .ljust = 해당문자열을 왼쪽으로 정렬 및 지정한 너비만큼 다른문자로 채워주는 매서드\n",
    "print(new_number)                                            # 0101234를 왼쪽으로 밀고 지정한 전체 너비에서 남는자리를 *로 채운다."
   ]
  },
  {
   "cell_type": "markdown",
   "metadata": {
    "id": "x68Hj4XZyXsM"
   },
   "source": [
    "---"
   ]
  },
  {
   "cell_type": "markdown",
   "metadata": {
    "id": "uUdOU9cFvDsq"
   },
   "source": [
    "__[문제3]__\n",
    "\n",
    "숫자를 건넬 때 일부 자릿수를 영단어로 바꾼 카드를 건네주면 프로도는 원래 숫자를 찾는 게임입니다.\n",
    "\n",
    "다음은 숫자의 일부 자릿수를 영단어로 바꾸는 예시입니다.\n",
    "\n",
    "1478 → \"one4seveneight\"  \n",
    "234567 → \"23four5six7\"  \n",
    "10203 → \"1zerotwozero3\"    \n",
    "\n",
    "이렇게 숫자의 일부 자릿수가 영단어로 바뀌어졌거나,   \n",
    "혹은 바뀌지 않고 그대로인 문자열 s가 주어졌을때\n",
    "s가 의미하는 원래 숫자를 출력하도록 코드를 작성해주세요\n",
    "\n",
    "s = \"77three4one\n",
    "\n",
    "---\n",
    "참고로 각 숫자에 대응되는 영단어는 다음 표와 같습니다.\n",
    "\n",
    "숫자\t영단어  \n",
    "0\tzero  \n",
    "1\tone  \n",
    "2\ttwo  \n",
    "3\tthree  \n",
    "4\tfour  \n",
    "5\tfive  \n",
    "6\tsix  \n",
    "7\tseven  \n",
    "8\teight  \n",
    "9\tnine  "
   ]
  },
  {
   "cell_type": "code",
   "execution_count": 105,
   "metadata": {
    "colab": {
     "base_uri": "https://localhost:8080/"
    },
    "executionInfo": {
     "elapsed": 46,
     "status": "ok",
     "timestamp": 1745217486947,
     "user": {
      "displayName": "jzyz",
      "userId": "12748753956174587680"
     },
     "user_tz": -540
    },
    "id": "2NmqRFgDvFtz",
    "outputId": "61d74659-6c68-42bc-b167-39128987bb13"
   },
   "outputs": [
    {
     "name": "stdout",
     "output_type": "stream",
     "text": [
      "77341\n"
     ]
    }
   ],
   "source": [
    "codes = {\n",
    "    0:'zero',\n",
    "    1:'one',\n",
    "    2:'two',\n",
    "    3:'three',\n",
    "    4:'four',\n",
    "    5:'five',\n",
    "    6:'six',\n",
    "    7:'seven',\n",
    "    8:'eight',\n",
    "    9:'nine'\n",
    "}\n",
    "# print(codes.keys())  # dict_keys([0, 1, 2, 3, 4, 5, 6, 7, 8, 9])\n",
    "# print(codes.values())  # dict_values(['zero', 'one', 'two', 'three', 'four', 'five', 'six', 'seven', 'eight', 'nine'])\n",
    "# new_s.replace(tmp, str(list(codes.keys())[list(codes.values()).index(tmp)]))\n",
    "\n",
    "s = \"77three4one\"\n",
    "# s = \"one4seveneight\"\n",
    "# s = \"23four5six7\"\n",
    "# s = \"1zerotwozero3\"\n",
    "\n",
    "## s position\n",
    "## implement replace()\n",
    "tmp = \"\"\n",
    "new_s = \"\"  # to prevent @IndexError: string index out of range\n",
    "for i in range(len(s)):\n",
    "    if s[i].isdigit():  # 774\n",
    "        new_s += s[i]\n",
    "        continue\n",
    "\n",
    "    tmp += s[i]\n",
    "    # print(tmp)\n",
    "    if tmp in codes.values():  # threeone\n",
    "        new_s += str(list(codes.keys())[list(codes.values()).index(tmp)])  # @TypeError: 'str' object does not support item assignment\n",
    "        tmp = \"\"\n",
    "\n",
    "print(new_s)\n",
    "\n",
    "\n",
    "\n",
    "## codes position\n",
    "# for key, value in codes.items():\n",
    "#     s = s.replace(value, str(key))\n",
    "\n",
    "# print(int(s))"
   ]
  },
  {
   "cell_type": "markdown",
   "metadata": {
    "id": "WqjMV24eyXsN"
   },
   "source": [
    "---"
   ]
  },
  {
   "cell_type": "markdown",
   "metadata": {
    "id": "J0Tha6AdvGL3"
   },
   "source": [
    "__[문제4]__\n",
    "\n",
    "행렬의 덧셈은 행과 열의 크기가 같은 두 행렬의 같은 행, 같은 열의 값을 서로 더한 결과가 됩니다.\n",
    "\n",
    " 행렬 arr1과 arr2가 주어졌을 때, 행렬 덧셈의 결과를 출력하는 코드를 작성해주세요(result와 같은 결과가 출력되도록 작성)\n",
    "\n",
    "arr1 = [[1,2],[2,3]]\n",
    "\n",
    "arr2 = [[3,4],[5,6]]\n",
    "\n",
    "result = [[4,6],[7,9]]"
   ]
  },
  {
   "cell_type": "code",
   "execution_count": null,
   "metadata": {
    "colab": {
     "base_uri": "https://localhost:8080/"
    },
    "executionInfo": {
     "elapsed": 12,
     "status": "ok",
     "timestamp": 1745217490480,
     "user": {
      "displayName": "jzyz",
      "userId": "12748753956174587680"
     },
     "user_tz": -540
    },
    "id": "ujiXrEhJvIV0",
    "outputId": "f278b659-c5d9-466a-8e28-88f265d877ef"
   },
   "outputs": [
    {
     "name": "stdout",
     "output_type": "stream",
     "text": [
      "[[4, 6], [7, 9]]\n"
     ]
    }
   ],
   "source": [
    "arr1 = [[1,2],[2,3]] # 2행2열의 리스트\n",
    "arr2 = [[3,4],[5,6]]\n",
    "\n",
    "result = [] # 값을 저장하기 위한 빈 리스트\n",
    "for i in range(len(arr1)): # 리스트 개수의 길이만큼 반복 / 2행 2열 이기에 2행을 표현하기 위한 반복문?\n",
    "    tmp = [] # 밑의 계산 결과를 담는 임시 리스트\n",
    "    for j in range(len(arr1[i])): # arr1 리스트의 [i]인덱스 안의 갯수 길이만큼 반복 / 2열을 표현하기 위한 반복문?\n",
    "        tmp.append(arr1[i][j] + arr2[i][j]) # 리스트들의 같은위치의 행렬을 더한값을 tep=[]에 추가\n",
    "    result.append(tmp) # tep에 저장된 값들을 result에 추가\n",
    "\n",
    "# 간단하게 리스트컴프리헨션으로 표현\n",
    "result = [[arr1[i][j] + arr2[i][j] for j in range(len(arr1[i]))] for i in range(len(arr1))]\n",
    "\n",
    "\n",
    "\"\"\" result = [[c1 + c2 for c1, c2 in zip(r1, r2)] for r1, r2 in zip(arr1, arr2)] \"\"\"\n",
    "\n",
    "print(result)"
   ]
  },
  {
   "cell_type": "markdown",
   "metadata": {
    "id": "PrAjtPDRyXsO"
   },
   "source": [
    "---"
   ]
  },
  {
   "cell_type": "markdown",
   "metadata": {
    "id": "eLdrWVkavJEN"
   },
   "source": [
    "__[문제5]__\n",
    "\n",
    "양의 정수 x가 하샤드 수이려면 x의 자릿수의 합으로 x가 나누어져야 합니다.   \n",
    "예를 들어 18의 자릿수 합은 1+8=9이고, 18은 9로 나누어 떨어지므로 18은 하샤드 수입니다.   \n",
    "주어진 x를 이용해 x가 하샤드 수인지 아닌지 검사하는 코드를 작성해주세요\n",
    "\n",
    "x = 17\n",
    "\n",
    "----\n",
    "\n",
    "입출력 예시\n",
    "x\t결과값  \n",
    "10\ttrue  \n",
    "12\ttrue  \n",
    "11\tfalse  \n",
    "13\tfalse  "
   ]
  },
  {
   "cell_type": "code",
   "execution_count": null,
   "metadata": {
    "colab": {
     "base_uri": "https://localhost:8080/"
    },
    "executionInfo": {
     "elapsed": 8,
     "status": "ok",
     "timestamp": 1745217499359,
     "user": {
      "displayName": "jzyz",
      "userId": "12748753956174587680"
     },
     "user_tz": -540
    },
    "id": "EULD-IOrvKmG",
    "outputId": "71c29fb1-8d76-4e32-b149-ee20d7b4189a"
   },
   "outputs": [
    {
     "name": "stdout",
     "output_type": "stream",
     "text": [
      "false\n",
      "False\n"
     ]
    }
   ],
   "source": [
    "x = 17 # x변수 지정\n",
    "xsum = 0 # 초기값 설정\n",
    "for i in range(len(str(x))): # x문자열의 길이만큼 반복\n",
    "    xsum += int(str(x)[i]) # x문자열을 [i]인덱싱하여 정수로 바꾸고 더한다.\n",
    "if x % xsum == 0: # x가 더한값으로 나누어떨어지면 true출력\n",
    "    print(\"true\")\n",
    "else: # 아니면 false출력\n",
    "    print(\"false\")\n",
    "\n",
    "\n",
    "num_list = list(map(int, str(x))) # x를 문자열로 바꾸고 정수화하여 문자 하나하나로 나누고 리스트화\n",
    "result = x % sum(num_list) == 0 # 비교연산자 사용으로 bool로 표현, x가 sum_list 각 자리의 합으로 나누어떨어지면 True\n",
    "print(result)"
   ]
  },
  {
   "cell_type": "markdown",
   "metadata": {
    "id": "91hVIl_SyXsO"
   },
   "source": [
    "---"
   ]
  },
  {
   "cell_type": "markdown",
   "metadata": {
    "id": "GeS6hZhivLMZ"
   },
   "source": [
    "__[문제6]__\n",
    "\n",
    "String형 배열 seoul의 element중 \"Kim\"의 인덱스 x를 찾아, \"김서방은 x에 있다\"는 String을 출력하는 코드를 작성해주세요.   \n",
    "\n",
    "seoul에 \"Kim\"은 오직 한 번만 나타나며 잘못된 값이 입력되는 경우는 없습니다.\n",
    "\n",
    "seoul = [\"Jane\", \"Kim\"]\n",
    "\n",
    "<br>\n",
    "출력 예) \"김서방은 1에 있다\""
   ]
  },
  {
   "cell_type": "code",
   "execution_count": null,
   "metadata": {
    "colab": {
     "base_uri": "https://localhost:8080/"
    },
    "executionInfo": {
     "elapsed": 20,
     "status": "ok",
     "timestamp": 1745217501498,
     "user": {
      "displayName": "jzyz",
      "userId": "12748753956174587680"
     },
     "user_tz": -540
    },
    "id": "e4LXat3BvRRg",
    "outputId": "eae6b634-69cc-4e4d-dc99-f4984c165cfd"
   },
   "outputs": [
    {
     "name": "stdout",
     "output_type": "stream",
     "text": [
      "김서방은 1에 있다\n"
     ]
    }
   ],
   "source": [
    "seoul = [\"Jane\", \"Kim\"]\n",
    "\n",
    "print(f\"김서방은 {seoul.index('Kim')}에 있다\") # .index로 'kim'이 있는 인덱스 표현\n",
    "\n",
    "\n",
    "# for i in range(len(seoul)): \n",
    "#     if seoul[i] == \"Kim\":\n",
    "#         print(f\"김서방은 {i}에 있다\")"
   ]
  },
  {
   "cell_type": "markdown",
   "metadata": {
    "id": "NKCXesWHyXsO"
   },
   "source": [
    "---"
   ]
  },
  {
   "cell_type": "markdown",
   "metadata": {
    "id": "iZjKl-ZqvOkm"
   },
   "source": [
    "__[문제7]__\n",
    "\n",
    "0부터 9까지의 숫자 중 일부가 들어있는 정수 배열 numbers가 주어집니다.   \n",
    "numbers에서 찾을 수 없는 0부터 9까지의 숫자를 모두 찾아 더한 수를 출력해주세요\n",
    "\n",
    "numbers = [5,8,1,0,6,9]"
   ]
  },
  {
   "cell_type": "code",
   "execution_count": 25,
   "metadata": {
    "colab": {
     "base_uri": "https://localhost:8080/"
    },
    "executionInfo": {
     "elapsed": 5,
     "status": "ok",
     "timestamp": 1745217505122,
     "user": {
      "displayName": "jzyz",
      "userId": "12748753956174587680"
     },
     "user_tz": -540
    },
    "id": "598DAkIHvQav",
    "outputId": "a7463984-0edb-47c4-c5c0-fef9a312d5fa"
   },
   "outputs": [
    {
     "name": "stdout",
     "output_type": "stream",
     "text": [
      "16\n",
      "16\n",
      "16\n",
      "16\n"
     ]
    }
   ],
   "source": [
    "# del sum\n",
    "\n",
    "numbers = [5,8,1,0,6,9]\n",
    "\n",
    "zerotonine = \"0123456789\"\n",
    "for i in range(len(numbers)):\n",
    "    zerotonine = zerotonine.replace(str(numbers[i]), \"\") # numbers 리시트의 각 인덱스를 문자열로 바꾸고 zerotonine에 있는문자면 없앤다?\n",
    "\n",
    "print(sum(list(map(int, list(zerotonine))))) # zerotonine에 남아있는 문자들을 정수로 하나하나로 표현하고 리스트로 만들어 각값을 더해서 출력\n",
    "\n",
    "\n",
    "full_set = set(range(10)) #{0, 1, 2, 3, 4, 5, 6, 7, 8, 9}\n",
    "numbers_set = set(numbers) #numbers에 있는 숫자들의 집합 {5, 8, 1, 0, 6, 9}\n",
    "missing_numbers = full_set - numbers_set # 차집합 : numbers에 없는 숫자들\n",
    "result = sum(missing_numbers) # 없는 숫자들의 합\n",
    "print(result)\n",
    "\n",
    "# 리스트 컴프리헨션으로 표현\n",
    "result = sum([i for i in range(10) if i not in set(numbers)])\n",
    "print(result)\n",
    "'''\n",
    "result = []\n",
    "for i in range(10):\n",
    "    if i not in set(numbers):\n",
    "        result.append(i)\n",
    "print(sum(result))\n",
    "'''\n",
    "\n",
    "# 셋 컴프리헨션으로 표횬\n",
    "result = sum({i for i in range(10) if i not in numbers})\n",
    "print(result)\n"
   ]
  }
 ],
 "metadata": {
  "colab": {
   "provenance": []
  },
  "kernelspec": {
   "display_name": "Python 3",
   "name": "python3"
  },
  "language_info": {
   "codemirror_mode": {
    "name": "ipython",
    "version": 3
   },
   "file_extension": ".py",
   "mimetype": "text/x-python",
   "name": "python",
   "nbconvert_exporter": "python",
   "pygments_lexer": "ipython3",
   "version": "3.13.3"
  }
 },
 "nbformat": 4,
 "nbformat_minor": 0
}
